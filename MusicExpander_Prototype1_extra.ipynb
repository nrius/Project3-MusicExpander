{
 "cells": [
  {
   "cell_type": "markdown",
   "metadata": {},
   "source": [
    "# MusicExpander Prototype 1:"
   ]
  },
  {
   "cell_type": "code",
   "execution_count": 1,
   "metadata": {},
   "outputs": [],
   "source": [
    "#workflow:\n",
    "#1 .Get a list of hot songs \"hotlist\" (Functions: create_raw_db, load_df)\n",
    "#2. Get song name form user: \"input song\" (Function: get_input)\n",
    "#3. Search the hotlist for the input song (Function: search_hotlist)\n",
    "#4. if function search_hostlist returns True, call a function that retrieves another hot song (Function: Song_retriever)\n",
    "#5. if function search_hostlist returns False, print a sad message"
   ]
  },
  {
   "cell_type": "markdown",
   "metadata": {},
   "source": [
    "## Import libraries"
   ]
  },
  {
   "cell_type": "code",
   "execution_count": 8,
   "metadata": {},
   "outputs": [],
   "source": [
    "#import libraries\n",
    "from bs4 import BeautifulSoup\n",
    "import pandas as pd\n",
    "import requests\n",
    "from random import randrange\n",
    "import spotipy # install if needed\n",
    "from spotipy.oauth2 import SpotifyClientCredentials"
   ]
  },
  {
   "cell_type": "markdown",
   "metadata": {},
   "source": [
    "## Add YOUR Spotity credentials"
   ]
  },
  {
   "cell_type": "code",
   "execution_count": 9,
   "metadata": {},
   "outputs": [],
   "source": [
    "#Initialize SpotiPy with user credentials\n",
    "# Remove mine when uploading\n",
    "\n",
    "sp = spotipy.Spotify(auth_manager=SpotifyClientCredentials(\n",
    "    client_id=\"9f9d46aed10c480b9b68543a2d15e2c9\",\n",
    "    client_secret=\"0016f56c1cc641159dc9e19ba85bc682\"))"
   ]
  },
  {
   "cell_type": "markdown",
   "metadata": {},
   "source": [
    "## Functions:"
   ]
  },
  {
   "cell_type": "code",
   "execution_count": 10,
   "metadata": {},
   "outputs": [],
   "source": [
    "#functions:\n",
    "\n",
    "def create_raw_db():\n",
    "    '''\n",
    "    Use requests to get html from hot songs site.\n",
    "    Use BeautifulSoup to parse the html\n",
    "    Return soup\n",
    "    '''\n",
    "    \n",
    "    url=\"https://www.billboard.com/charts/hot-100\"\n",
    "    response=requests.get(url)\n",
    "    \n",
    "    #if response.status_code !=200 do soemthing?\n",
    "    \n",
    "    #create the soup \n",
    "    soup=BeautifulSoup(response.content, \"html.parser\")\n",
    "    \n",
    "    return soup\n",
    "    \n",
    "\n",
    "\n",
    "def load_df(soup):\n",
    "    '''\n",
    "    input: soup from create_raw_db:\n",
    "    store song names and artist names from the soup\n",
    "    create a dictionary\n",
    "    load a pandas df\n",
    "    '''\n",
    "    \n",
    "    #create empty lists to append songs names and artist names\n",
    "    song_names=[]\n",
    "    artists_names=[]\n",
    "    \n",
    "    #use Beautiful Soup to extract the song names and artists names:\n",
    "    names_songs=soup.select(\"span.chart-element__information__song.text--truncate.color--primary\")\n",
    "    names_artists=soup.select(\"span.chart-element__information__artist.text--truncate.color--secondary\")\n",
    "    \n",
    "    #loop to append\n",
    "    for s in names_songs:\n",
    "        song_names.append(s.get_text())\n",
    "    \n",
    "    for s in names_artists:\n",
    "        artists_names.append(s.get_text())\n",
    "\n",
    "    #store lists in dictionary\n",
    "    songs_dict={\n",
    "        \"song titles\":song_names,\n",
    "        \"artists\":artists_names,\n",
    "        }\n",
    "    # Each key becomes a dataframe column name:\n",
    "    hot_songs_df=pd.DataFrame(songs_dict)\n",
    "    \n",
    "    return hot_songs_df\n",
    "\n",
    "def answer_refiner():\n",
    "    \n",
    "    '''\n",
    "    This is a more complex version of get_input_song\n",
    "    it asks the user if their song was played by an artist\n",
    "    if it is the while loop finishes\n",
    "    if it is not, the loop continues asking questions\n",
    "    either until the user says it is the right artist\n",
    "    or until the user quits.\n",
    "    '''\n",
    "    #define affirmative and negative answers:\n",
    "    affirmative=[\"Yes\",\"YES\",\"yes\",\"yeah\",\"yep\",\"y\",\"Y\"]\n",
    "    negative=[\"No\",\"NO\",\"no\",\"Nope\",\"NOPE\",\"nope\",\"n\",\"N\"]\n",
    "    attempts=0\n",
    "    \n",
    "    #make sure it is the right song:\n",
    "    status=False\n",
    "    while status == False:\n",
    "    \n",
    "        input_song=input(\"Tell me the name of a song you like!\")\n",
    "        second_input=input(\"Do you mean to the song \"+input_song+ \" by \"+ artist_retriver(input_song))\n",
    "    \n",
    "        if second_input in affirmative :\n",
    "            print(\"Cool! I know which song you mean!\")\n",
    "            status=True\n",
    "\n",
    "        elif second_input in negative and attempts ==0:\n",
    "            print(\"ok, yours must be another song. Let's try again:\")\n",
    "            attempts+=1\n",
    "            \n",
    "        elif second_input in negative and attempts >0:\n",
    "            third_input=input(\"Do you want to quit?\")\n",
    "            attempts+=1\n",
    "            if third_input in affirmative:\n",
    "                print(\"ok, let's stop, I don't know the songs you like\")\n",
    "                break\n",
    "            elif third_input in negative:\n",
    "                print(\"ok, yours must be another song. Let's try again:\")\n",
    "            else:\n",
    "                print(\"Sorry, your answer must be \\\"Yes\\\" or \\\"No\\\". Try again, please\")  \n",
    "        else:\n",
    "            print(\"Sorry, your answer must be \\\"Yes\\\" or \\\"No\\\". Try again, please\")\n",
    "\n",
    "    return input_song  \n",
    "\n",
    "def get_input_song():\n",
    "    input_song=input(\"Tell me the name of a song you like!\")\n",
    "    return input_song\n",
    "\n",
    "\n",
    "def search_hotlist(input_song, hot_song_df):\n",
    "    if len(hot_df.loc[hot_song_df['song titles'] == input_song])!=0:\n",
    "        return True\n",
    "        \n",
    "    else:\n",
    "        return False\n",
    "    \n",
    "def song_retriver(input_song, hot_song_df):\n",
    "    '''\n",
    "    get a random song form the sd of hot songs\n",
    "    '''\n",
    "    \n",
    "    #get random number within hot_song_df range:\n",
    "    numb_r=randrange(len(hot_song_df))\n",
    "    #song_titles are in column 0:\n",
    "    #get value form \"song title\" column and numb_r index:\n",
    "    return(hot_df.iloc[numb_r,0])\n",
    "\n",
    "\n",
    "def artist_retriver(input_song):\n",
    "    '''\n",
    "    retrieve the artist of a given song with sp.search\n",
    "    spotify credentials must be provided above\n",
    "    '''\n",
    "    #search in spotify the info about the input song\n",
    "    song_info = sp.search(input_song,limit=1)\n",
    "    #save the artist's name\n",
    "    artists_names=(song_info[\"tracks\"][\"items\"][0][\"artists\"][0][\"name\"])\n",
    "    return artists_names\n",
    "\n"
   ]
  },
  {
   "cell_type": "code",
   "execution_count": 11,
   "metadata": {},
   "outputs": [
    {
     "name": "stdout",
     "output_type": "stream",
     "text": [
      "Tell me the name of a song you like!soldadet\n",
      "Do you mean to the song soldadet by Fito y Fitipaldisno\n",
      "ok, yours must be another song. Let's try again:\n",
      "Tell me the name of a song you like!Soldadet\n",
      "Do you mean to the song Soldadet by Fito y Fitipaldisnope\n",
      "Do you want to quit?no\n",
      "ok, yours must be another song. Let's try again:\n",
      "Tell me the name of a song you like!Soldadet\n",
      "Do you mean to the song Soldadet by Fito y Fitipaldisla cançó del soldadet\n",
      "Sorry, your answer must be \"Yes\" or \"No\". Try again, please\n",
      "Tell me the name of a song you like!la cançó del soldadet\n",
      "Do you mean to the song la cançó del soldadet by Manelyes\n",
      "Cool! I know which song you mean!\n",
      "Your taste is not up to date... I can't recommend you new songs, sorry\n"
     ]
    }
   ],
   "source": [
    "#main:\n",
    "\n",
    "#create db\n",
    "hot_soup=create_raw_db()\n",
    "\n",
    "#fill a pandas dataframe with the db from BeautifulSoup\n",
    "hot_df=load_df(hot_soup)\n",
    "\n",
    "#get a song from the user (make sure it is the right song)\n",
    "user_song=answer_refiner()\n",
    "\n",
    "\n",
    "if search_hotlist(user_song, hot_df)== True:\n",
    "    print(\"You have a trendy taste! You may also like this other song:\")\n",
    "    new_song=song_retriver(user_song, hot_df)\n",
    "    print(new_song+\" by \"+ artist_retriver(new_song))\n",
    "    \n",
    "else:\n",
    "    print(\"Your taste is not up to date... I can't recommend you new songs, sorry\")\n"
   ]
  },
  {
   "cell_type": "code",
   "execution_count": null,
   "metadata": {},
   "outputs": [],
   "source": []
  }
 ],
 "metadata": {
  "kernelspec": {
   "display_name": "Python 3",
   "language": "python",
   "name": "python3"
  },
  "language_info": {
   "codemirror_mode": {
    "name": "ipython",
    "version": 3
   },
   "file_extension": ".py",
   "mimetype": "text/x-python",
   "name": "python",
   "nbconvert_exporter": "python",
   "pygments_lexer": "ipython3",
   "version": "3.8.5"
  },
  "toc": {
   "base_numbering": 1,
   "nav_menu": {},
   "number_sections": true,
   "sideBar": true,
   "skip_h1_title": false,
   "title_cell": "Table of Contents",
   "title_sidebar": "Contents",
   "toc_cell": false,
   "toc_position": {},
   "toc_section_display": true,
   "toc_window_display": false
  },
  "varInspector": {
   "cols": {
    "lenName": 16,
    "lenType": 16,
    "lenVar": 40
   },
   "kernels_config": {
    "python": {
     "delete_cmd_postfix": "",
     "delete_cmd_prefix": "del ",
     "library": "var_list.py",
     "varRefreshCmd": "print(var_dic_list())"
    },
    "r": {
     "delete_cmd_postfix": ") ",
     "delete_cmd_prefix": "rm(",
     "library": "var_list.r",
     "varRefreshCmd": "cat(var_dic_list()) "
    }
   },
   "types_to_exclude": [
    "module",
    "function",
    "builtin_function_or_method",
    "instance",
    "_Feature"
   ],
   "window_display": false
  }
 },
 "nbformat": 4,
 "nbformat_minor": 4
}
