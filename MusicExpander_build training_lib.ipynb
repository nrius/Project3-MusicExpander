{
 "cells": [
  {
   "cell_type": "markdown",
   "metadata": {},
   "source": [
    "# AtticTreasures: Build a training library"
   ]
  },
  {
   "cell_type": "code",
   "execution_count": 1,
   "metadata": {},
   "outputs": [],
   "source": [
    "# this part of AttacTreasures requieres several spotify playlists\n",
    "# it gets a "
   ]
  },
  {
   "cell_type": "markdown",
   "metadata": {},
   "source": [
    "## Import libraries"
   ]
  },
  {
   "cell_type": "code",
   "execution_count": 2,
   "metadata": {},
   "outputs": [],
   "source": [
    "#import libraries\n",
    "from bs4 import BeautifulSoup\n",
    "import pandas as pd\n",
    "import requests\n",
    "from random import randrange\n",
    "import spotipy # install if needed\n",
    "from spotipy.oauth2 import SpotifyClientCredentials\n",
    "import os"
   ]
  },
  {
   "cell_type": "markdown",
   "metadata": {},
   "source": [
    "## Add YOUR Spotity credentials"
   ]
  },
  {
   "cell_type": "code",
   "execution_count": 3,
   "metadata": {},
   "outputs": [],
   "source": [
    "#Initialize SpotiPy with user credentials\n",
    "# Remove mine when uploading\n",
    "\n",
    "sp = spotipy.Spotify(auth_manager=SpotifyClientCredentials(\n",
    "    client_id=\"9f9d46aed10c480b9b68543a2d15e2c9\",\n",
    "    client_secret=\"0016f56c1cc641159dc9e19ba85bc682\"))"
   ]
  },
  {
   "cell_type": "markdown",
   "metadata": {},
   "source": [
    "## Functions:"
   ]
  },
  {
   "cell_type": "code",
   "execution_count": 4,
   "metadata": {},
   "outputs": [],
   "source": [
    "#get a huge collection of song info from spotify:\n",
    "#first create a collection of song names:\n",
    "#get playlist, extranct song uris:\n",
    " #uri of a playlist with 100 songs from different artists:\n",
    "ironhack_tunes=\"spotify:playlist:1kVI7R6OrKNN8Bf8GMJq9q\"\n",
    "shower_playlist=\"spotify:playlist:37i9dQZF1DWSqmBTGDYngZ\"\n",
    "eighties_to_oughts_playlist=\"spotify:playlist:6xnhcezDUVM4q6CHbX0nTS\"\n",
    "longest_playlist_ever=\"spotify:playlist:6yPiKpy7evrwvZodByKvM9\"\n",
    "long_playlist=\"spotify:playlist:0twlW4iDRhKXAJPopD8PP0\"\n",
    "classical=\"spotify:playlist:7qvZykTVPjvEX2LCcXoHog\"\n",
    "rap=\"spotify:playlist:37i9dQZF1DX0XUsuxWHRQd\"\n",
    "jazz=\"spotify:playlist:05Hd48jdQIz3s8WRrvGnzf\"\n",
    "traditional_chinese=\"spotify:playlist:3DTJZ0wPXLCUKM0R86fXAy\"\n",
    "traditional_african=\"spotify:playlist:6P911F6Yy5TszDzeTEmsVI\"\n",
    "traditional_jewish=\"spotify:playlist:3bvTqM2UeFVOh9vKEu3m1Y\"\n",
    "folk=\"spotify:playlist:37i9dQZF1DWYV7OOaGhoH0\""
   ]
  },
  {
   "cell_type": "code",
   "execution_count": 5,
   "metadata": {},
   "outputs": [],
   "source": [
    "#starting again:\n",
    "def get_info_from_playlist(playlist_name):\n",
    "\n",
    "    '''\n",
    "    get name of song, artists, and uri of the song in a df\n",
    "    '''\n",
    "    \n",
    "    results = sp.user_playlist_tracks(\"spotify\", playlist_name)\n",
    "    items = results['items']\n",
    "    song_uris=[]\n",
    "    songs = []\n",
    "    artists = []\n",
    "    song_id=[]\n",
    "    \n",
    "    #the the first 100 songs\n",
    "    for song_item in items:\n",
    "             # print([\"track\"][0].keys())\n",
    "            songs.append(song_item[\"track\"][\"name\"])\n",
    "            artists.append(song_item[\"track\"][\"artists\"][0][\"name\"])\n",
    "            song_uris.append(song_item[\"track\"][\"uri\"])\n",
    "            song_id.append(song_item[\"track\"][\"uri\"][14:])\n",
    "    \n",
    "    #while there is a next, keep collecting songs\n",
    "    while results['next']:\n",
    "        results = sp.next(results)\n",
    "        items.extend(results['items'])\n",
    "        for song_item in items:\n",
    "            songs.append(song_item[\"track\"][\"name\"])\n",
    "            artists.append(song_item[\"track\"][\"artists\"][0][\"name\"])\n",
    "            song_uris.append(song_item[\"track\"][\"uri\"])\n",
    "            song_id.append(song_item[\"track\"][\"uri\"][14:])\n",
    "        \n",
    "    #create a dictionary after the loop:\n",
    "    songs_dict={\n",
    "    \"song titles\":songs,\n",
    "    \"artists\":artists,\n",
    "    \"songs uri\":song_uris,\n",
    "    \"song id\":song_id\n",
    "    }\n",
    "\n",
    "    #Each key becomes a dataframe column name:\n",
    "    library_df=pd.DataFrame(songs_dict)\n",
    "    \n",
    "    return library_df\n",
    "\n",
    "\n",
    "\n",
    "def get_song_features(song_uri):\n",
    "    '''\n",
    "    input a individual song uri\n",
    "    output a df with a single row,\n",
    "    and the features in columns\n",
    "    '''\n",
    "    features_dict=sp.audio_features(song_uri)\n",
    "    features_df=pd.DataFrame(features_dict)\n",
    "    \n",
    "    return features_df\n",
    "\n",
    "def get_uris(playlist_name):\n",
    "    '''\n",
    "    input a playlist\n",
    "    output a list of song uris\n",
    "    the output can be feeded to the function get_song_features\n",
    "    '''\n",
    "    #include the while\n",
    "    playlist = sp.user_playlist_tracks(\"spotify\", playlist_name)\n",
    "    items = playlist[\"items\"]\n",
    "    song_uris = []\n",
    "    \n",
    "    for song in items:\n",
    "        song_uris.append(song[\"track\"][\"uri\"][14:])\n",
    "    return song_uris\n",
    "\n",
    "\n",
    "def get_uris_all(playlist_name):\n",
    "    #with next:\n",
    "    '''\n",
    "    input a playlist\n",
    "    output a list of song uris\n",
    "    the output can be feeded to the function get_song_features\n",
    "    '''\n",
    "    #include the while\n",
    "    playlist = sp.user_playlist_tracks(\"spotify\", playlist_name)\n",
    "    items = playlist[\"items\"]\n",
    "    song_uris = []\n",
    "    \n",
    "    for song_item in items:\n",
    "        song_uris.append(song_item[\"track\"][\"uri\"][14:])\n",
    "    \n",
    "    #while there is a next, keep collecting songs\n",
    "    while playlist['next']:\n",
    "        playlist = sp.next(playlist)\n",
    "        items.extend(playlist['items'])\n",
    "        for song_item in items:\n",
    "            song_uris.append(song_item[\"track\"][\"uri\"][14:])\n",
    "        \n",
    "    return song_uris\n"
   ]
  },
  {
   "cell_type": "markdown",
   "metadata": {},
   "source": [
    "## Main"
   ]
  },
  {
   "cell_type": "code",
   "execution_count": 6,
   "metadata": {},
   "outputs": [],
   "source": [
    "# Build the super playlist:\n",
    "\n",
    "#List of playlist to include:\n",
    "list_of_playlists=[ironhack_tunes, shower_playlist, eighties_to_oughts_playlist,longest_playlist_ever, classical, rap,jazz, traditional_chinese, traditional_african, traditional_jewish, folk]\n",
    "\n",
    "list_of_df=[]\n",
    "\n",
    "#append the df with the info (song names, artist and song uri)\n",
    "#to a list of df:\n",
    "for l in list_of_playlists:\n",
    "    list_of_df.append(get_info_from_playlist(l))\n",
    "\n",
    "#concat the dfs in a big df:\n",
    "df_total_pl=pd.concat(list_of_df)\n",
    "\n",
    "\n",
    "#drop duplicates:\n",
    "final_df=df_total_pl.drop_duplicates()\n",
    "len(final_df)\n",
    "\n",
    "#drop the rows when the \"song_id\" is longer than 22. Corrupted row\n",
    "A=final_df[final_df['song id'].map(len) == 22]\n",
    "# keep the rows that do not(~) contain \":\"\" if is more effective than the 22 filter\n",
    "A=final_df[~final_df['song id'].str.contains(r':')]\n",
    "\n",
    "#from the final_df I extract the column song uri and pass it to get_song features with a loop\n",
    "song_uris_list=A[\"song id\"].tolist()\n",
    "list_of_df_names=[]\n",
    "for uri in song_uris_list:\n",
    "    #append each df (a single row each), to a list\n",
    "    list_of_df_names.append(get_song_features(uri))\n",
    "    \n",
    "#concat all the dataframes, since the index of each df is 0, ignore index\n",
    "df_total_features=pd.concat(list_of_df_names, ignore_index=True)\n",
    "\n",
    "#merge the info df and the feature df using song uri:\n",
    "df_complete=A.merge(df_total_features, left_on='songs uri', right_on='uri')"
   ]
  },
  {
   "cell_type": "markdown",
   "metadata": {},
   "source": [
    "## Potential issues, keep an eye on this"
   ]
  },
  {
   "cell_type": "code",
   "execution_count": 7,
   "metadata": {},
   "outputs": [
    {
     "data": {
      "text/plain": [
       "'\\nArcade+Fire:Funeral:Neighborhood+%231+%28Tunnels%29:288\\nThe+Black+Keys:Turn+Blue:Bullet+In+the+Brain:256\\nThe+Blacke+Keys:Turn+Blue:Fever:246\\nThe+Black+Keys:Turn+Blue:Gotta+Get+Away:182\\nThe+Black+Keys:Turn+Blue:In+Our+Prime:278\\n'"
      ]
     },
     "execution_count": 7,
     "metadata": {},
     "output_type": "execute_result"
    }
   ],
   "source": [
    "#watch for this kind of strings in \"song id column\".\n",
    "#if this happens, the whole row is corrupted, it must be dropped\n",
    "#I dropped 81 out of 13756 (line 22 of 1.4 Main)\n",
    "'''\n",
    "Arcade+Fire:Funeral:Neighborhood+%231+%28Tunnels%29:288\n",
    "The+Black+Keys:Turn+Blue:Bullet+In+the+Brain:256\n",
    "The+Blacke+Keys:Turn+Blue:Fever:246\n",
    "The+Black+Keys:Turn+Blue:Gotta+Get+Away:182\n",
    "The+Black+Keys:Turn+Blue:In+Our+Prime:278\n",
    "'''"
   ]
  },
  {
   "cell_type": "markdown",
   "metadata": {},
   "source": [
    "## save files"
   ]
  },
  {
   "cell_type": "code",
   "execution_count": 12,
   "metadata": {},
   "outputs": [],
   "source": [
    "df_total_features.to_csv('Data/total_features_2.csv')"
   ]
  },
  {
   "cell_type": "code",
   "execution_count": 13,
   "metadata": {},
   "outputs": [],
   "source": [
    "A.to_csv('Data/total_playlist_info_2.csv')"
   ]
  },
  {
   "cell_type": "code",
   "execution_count": 14,
   "metadata": {},
   "outputs": [],
   "source": [
    "df_complete.to_csv('Data/greatest_df_2.csv')"
   ]
  },
  {
   "cell_type": "code",
   "execution_count": null,
   "metadata": {},
   "outputs": [],
   "source": [
    "df_complete.to_pickle(\"Data/greatest_df_2.pkl\")"
   ]
  },
  {
   "cell_type": "code",
   "execution_count": null,
   "metadata": {},
   "outputs": [],
   "source": []
  }
 ],
 "metadata": {
  "kernelspec": {
   "display_name": "Python 3",
   "language": "python",
   "name": "python3"
  },
  "language_info": {
   "codemirror_mode": {
    "name": "ipython",
    "version": 3
   },
   "file_extension": ".py",
   "mimetype": "text/x-python",
   "name": "python",
   "nbconvert_exporter": "python",
   "pygments_lexer": "ipython3",
   "version": "3.8.5"
  },
  "toc": {
   "base_numbering": 1,
   "nav_menu": {},
   "number_sections": true,
   "sideBar": true,
   "skip_h1_title": false,
   "title_cell": "Table of Contents",
   "title_sidebar": "Contents",
   "toc_cell": false,
   "toc_position": {},
   "toc_section_display": true,
   "toc_window_display": false
  },
  "varInspector": {
   "cols": {
    "lenName": 16,
    "lenType": 16,
    "lenVar": 40
   },
   "kernels_config": {
    "python": {
     "delete_cmd_postfix": "",
     "delete_cmd_prefix": "del ",
     "library": "var_list.py",
     "varRefreshCmd": "print(var_dic_list())"
    },
    "r": {
     "delete_cmd_postfix": ") ",
     "delete_cmd_prefix": "rm(",
     "library": "var_list.r",
     "varRefreshCmd": "cat(var_dic_list()) "
    }
   },
   "types_to_exclude": [
    "module",
    "function",
    "builtin_function_or_method",
    "instance",
    "_Feature"
   ],
   "window_display": false
  }
 },
 "nbformat": 4,
 "nbformat_minor": 4
}
